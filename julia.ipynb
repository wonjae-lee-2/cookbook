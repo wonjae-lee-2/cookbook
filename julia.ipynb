{
 "cells": [
  {
   "cell_type": "code",
   "execution_count": 1,
   "id": "b8c8d632-c04a-4569-8d04-318edb91d087",
   "metadata": {},
   "outputs": [],
   "source": [
    "using Distributed"
   ]
  },
  {
   "cell_type": "code",
   "execution_count": 2,
   "id": "6022c19f-0e3a-48e8-8e99-3f519442cb2f",
   "metadata": {},
   "outputs": [
    {
     "data": {
      "text/plain": [
       "1-element Vector{Int64}:\n",
       " 1"
      ]
     },
     "execution_count": 2,
     "metadata": {},
     "output_type": "execute_result"
    }
   ],
   "source": [
    "procs()"
   ]
  },
  {
   "cell_type": "markdown",
   "id": "9b7c6f44",
   "metadata": {},
   "source": [
    "Open a new Jupyter Lab terminal to automatically run `~/keys/gcloud-auth.sh` at startup. Using the terminal,\n",
    "\n",
    "* `bash` activate the bash shell.\n",
    "\n",
    "* `./cluster.sh` create a desired number of worker pods and forward local ports to worker pods."
   ]
  },
  {
   "cell_type": "code",
   "execution_count": 3,
   "id": "8443e1c9-3b21-43d7-bb37-898518241b8f",
   "metadata": {},
   "outputs": [
    {
     "data": {
      "text/plain": [
       "10-element Vector{String}:\n",
       " \"root@localhost:60001\"\n",
       " \"root@localhost:60002\"\n",
       " \"root@localhost:60003\"\n",
       " \"root@localhost:60004\"\n",
       " \"root@localhost:60005\"\n",
       " \"root@localhost:60006\"\n",
       " \"root@localhost:60007\"\n",
       " \"root@localhost:60008\"\n",
       " \"root@localhost:60009\"\n",
       " \"root@localhost:60010\""
      ]
     },
     "execution_count": 3,
     "metadata": {},
     "output_type": "execute_result"
    }
   ],
   "source": [
    "num_workers = 10 # This should match the number of workers created in the Jupyter Lab terminal.\n",
    "machines = [\"root@localhost:$(60000 + x)\" for x in 1:num_workers]"
   ]
  },
  {
   "cell_type": "code",
   "execution_count": 4,
   "id": "c512c580-b12d-4207-82df-5212ba76a25e",
   "metadata": {},
   "outputs": [
    {
     "name": "stderr",
     "output_type": "stream",
     "text": [
      "sh: 10: /root/keys/gcloud-auth.sh: not found\n",
      "sh: 1: cd: can't cd to /root/github/cookbook\n",
      "sh: 10: /root/keys/gcloud-auth.sh: not found\n",
      "sh: 1: cd: can't cd to /root/github/cookbook\n",
      "sh: 10: /root/keys/gcloud-auth.sh: not found\n",
      "sh: 1: cd: can't cd to /root/github/cookbook\n",
      "sh: 10: /root/keys/gcloud-auth.sh: not found\n",
      "sh: 1: cd: can't cd to /root/github/cookbook\n",
      "sh: 10: /root/keys/gcloud-auth.sh: not found\n",
      "sh: 1: cd: can't cd to /root/github/cookbook\n",
      "sh: 10: /root/keys/gcloud-auth.sh: not found\n",
      "sh: 1: cd: can't cd to /root/github/cookbook\n",
      "sh: 10: /root/keys/gcloud-auth.sh: not found\n",
      "sh: 1: cd: can't cd to /root/github/cookbook\n",
      "sh: 10: /root/keys/gcloud-auth.sh: not found\n",
      "sh: 1: cd: can't cd to /root/github/cookbook\n",
      "sh: 10: /root/keys/gcloud-auth.sh: not found\n",
      "sh: 1: cd: can't cd to /root/github/cookbook\n",
      "sh: 10: /root/keys/gcloud-auth.sh: not found\n",
      "sh: 1: cd: can't cd to /root/github/cookbook\n"
     ]
    },
    {
     "data": {
      "text/plain": [
       "10-element Vector{Int64}:\n",
       "  2\n",
       "  3\n",
       "  4\n",
       "  5\n",
       "  6\n",
       "  7\n",
       "  8\n",
       "  9\n",
       " 10\n",
       " 11"
      ]
     },
     "execution_count": 4,
     "metadata": {},
     "output_type": "execute_result"
    }
   ],
   "source": [
    "addprocs(machines; tunnel = true, sshflags = `-o StrictHostKeyChecking=accept-new`, topology = :master_worker)"
   ]
  },
  {
   "cell_type": "code",
   "execution_count": 5,
   "id": "39c528b2-3bd0-4abe-ac0f-d708a2b13bca",
   "metadata": {},
   "outputs": [
    {
     "data": {
      "text/plain": [
       "11-element Vector{Int64}:\n",
       "  1\n",
       "  2\n",
       "  3\n",
       "  4\n",
       "  5\n",
       "  6\n",
       "  7\n",
       "  8\n",
       "  9\n",
       " 10\n",
       " 11"
      ]
     },
     "execution_count": 5,
     "metadata": {},
     "output_type": "execute_result"
    }
   ],
   "source": [
    "procs()"
   ]
  },
  {
   "cell_type": "code",
   "execution_count": 6,
   "id": "4c7d7bb0-102c-4c45-bb72-aeea794b8d54",
   "metadata": {},
   "outputs": [
    {
     "data": {
      "text/plain": [
       "999986487"
      ]
     },
     "execution_count": 6,
     "metadata": {},
     "output_type": "execute_result"
    }
   ],
   "source": [
    "nheads = @distributed (+) for i = 1:2000000000\n",
    "    Int(rand(Bool))\n",
    "end"
   ]
  },
  {
   "cell_type": "code",
   "execution_count": 20,
   "id": "36a85168-a7b5-47ae-ab1e-91e1c78d51e9",
   "metadata": {},
   "outputs": [
    {
     "name": "stderr",
     "output_type": "stream",
     "text": [
      "┌ Warning: rmprocs: process 1 not removed\n",
      "└ @ Distributed /buildworker/worker/package_linux64/build/usr/share/julia/stdlib/v1.7/Distributed/src/cluster.jl:1045\n"
     ]
    },
    {
     "data": {
      "text/plain": [
       "Task (done) @0x00007fe9d0bfdb60"
      ]
     },
     "execution_count": 20,
     "metadata": {},
     "output_type": "execute_result"
    }
   ],
   "source": [
    "rmprocs(workers())"
   ]
  },
  {
   "cell_type": "code",
   "execution_count": 21,
   "id": "be5d2c84-596d-48bc-8a7a-82e8a60577b8",
   "metadata": {},
   "outputs": [
    {
     "data": {
      "text/plain": [
       "1-element Vector{Int64}:\n",
       " 1"
      ]
     },
     "execution_count": 21,
     "metadata": {},
     "output_type": "execute_result"
    }
   ],
   "source": [
    "procs()"
   ]
  },
  {
   "cell_type": "markdown",
   "id": "a5f75b62-5fc7-4b2f-a3ca-1ff7adca468c",
   "metadata": {},
   "source": [
    "Using the Jupyter Lab terminal,\n",
    "\n",
    "* `pkill kubectl` Stop port-forwarding.\n",
    "\n",
    "* `kubectl delete deployment/worker -n julia` Delete all the deployed worker pods."
   ]
  }
 ],
 "metadata": {
  "kernelspec": {
   "display_name": "Julia 1.7.3",
   "language": "julia",
   "name": "julia-1.7"
  },
  "language_info": {
   "file_extension": ".jl",
   "mimetype": "application/julia",
   "name": "julia",
   "version": "1.7.3"
  }
 },
 "nbformat": 4,
 "nbformat_minor": 5
}
