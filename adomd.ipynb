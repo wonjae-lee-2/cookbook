{
 "cells": [
  {
   "cell_type": "markdown",
   "id": "35c57353-3109-4faa-a6c7-c2ea3a5f6d23",
   "metadata": {},
   "source": [
    "Open a new terminal in this Jupyter Lab to automatically log into Azure at startup. Using the terminal,\n",
    "\n",
    "* `bash` activate the bash shell."
   ]
  },
  {
   "cell_type": "code",
   "execution_count": 1,
   "id": "f09812dc-96e8-4b81-993f-ef9c248d6106",
   "metadata": {},
   "outputs": [],
   "source": [
    "import pandas as pd"
   ]
  },
  {
   "cell_type": "code",
   "execution_count": 2,
   "id": "6164e674-1813-449c-8040-565e978175ed",
   "metadata": {},
   "outputs": [],
   "source": [
    "from azure.identity import AzureCliCredential\n",
    "credential = AzureCliCredential()\n",
    "token = credential.get_token(\"https://westeurope.asazure.windows.net\").token"
   ]
  },
  {
   "cell_type": "code",
   "execution_count": 3,
   "id": "676ded01-5cab-46e4-9119-0987d15f7f1e",
   "metadata": {},
   "outputs": [],
   "source": [
    "from clr_loader import get_coreclr\n",
    "from pythonnet import set_runtime\n",
    "rt = get_coreclr(\"/root/runtimeconfig.json\")\n",
    "set_runtime(rt)"
   ]
  },
  {
   "cell_type": "code",
   "execution_count": 4,
   "id": "568aabe8-8f73-4f06-b591-81635f1ebd1f",
   "metadata": {},
   "outputs": [],
   "source": [
    "import clr\n",
    "clr.AddReference('/root/dll/Microsoft.AnalysisServices.AdomdClient.dll')\n",
    "from Microsoft.AnalysisServices.AdomdClient import AdomdConnection, AdomdCommand, AdomdDataReader"
   ]
  },
  {
   "cell_type": "code",
   "execution_count": 5,
   "id": "5dfc1443-e8bc-4ed2-ade2-a2552d424584",
   "metadata": {},
   "outputs": [],
   "source": [
    "conn = AdomdConnection(f'Data Source=asazure://westeurope.asazure.windows.net/unhcrfinbiprod;Password={token}')\n",
    "conn.Open()"
   ]
  },
  {
   "cell_type": "code",
   "execution_count": 6,
   "id": "0ac11fd4-d1bb-4eff-b494-62abcfbceb26",
   "metadata": {},
   "outputs": [
    {
     "data": {
      "text/html": [
       "<div>\n",
       "<style scoped>\n",
       "    .dataframe tbody tr th:only-of-type {\n",
       "        vertical-align: middle;\n",
       "    }\n",
       "\n",
       "    .dataframe tbody tr th {\n",
       "        vertical-align: top;\n",
       "    }\n",
       "\n",
       "    .dataframe thead th {\n",
       "        text-align: right;\n",
       "    }\n",
       "</style>\n",
       "<table border=\"1\" class=\"dataframe\">\n",
       "  <thead>\n",
       "    <tr style=\"text-align: right;\">\n",
       "      <th></th>\n",
       "      <th>Commitment Control Ledger[Budget Year]</th>\n",
       "      <th>[TOTAL]</th>\n",
       "    </tr>\n",
       "  </thead>\n",
       "  <tbody>\n",
       "    <tr>\n",
       "      <th>0</th>\n",
       "      <td>2006</td>\n",
       "      <td>-10161.83</td>\n",
       "    </tr>\n",
       "    <tr>\n",
       "      <th>1</th>\n",
       "      <td>2004</td>\n",
       "      <td>-4797.77</td>\n",
       "    </tr>\n",
       "    <tr>\n",
       "      <th>2</th>\n",
       "      <td>2005</td>\n",
       "      <td>-2395.62</td>\n",
       "    </tr>\n",
       "  </tbody>\n",
       "</table>\n",
       "</div>"
      ],
      "text/plain": [
       "  Commitment Control Ledger[Budget Year]   [TOTAL]\n",
       "0                                   2006 -10161.83\n",
       "1                                   2004  -4797.77\n",
       "2                                   2005  -2395.62"
      ]
     },
     "execution_count": 6,
     "metadata": {},
     "output_type": "execute_result"
    }
   ],
   "source": [
    "commandText = '''\n",
    "EVALUATE\n",
    "SUMMARIZE(\n",
    "    FILTER('Commitment Control Ledger', 'Commitment Control Ledger'[Budget Year] in { \"2004\", \"2005\", \"2006\" }),\n",
    "    'Commitment Control Ledger'[Budget Year],\n",
    "    \"TOTAL\",\n",
    "    [KK Activity Base Amount]\n",
    ")\n",
    "'''\n",
    "cmd = AdomdCommand(commandText, conn)\n",
    "reader = cmd.ExecuteReader()\n",
    "cols = [row['ColumnName'] for row in reader.GetSchemaTable().Rows]\n",
    "df = pd.DataFrame(columns=cols)\n",
    "while reader.Read():\n",
    "    values = [[reader[i]] for i in range(len(cols))]\n",
    "    row = dict(zip(cols, values))\n",
    "    df_row = pd.DataFrame.from_dict(row)\n",
    "    df = pd.concat([df, df_row], ignore_index=True)\n",
    "df"
   ]
  },
  {
   "cell_type": "code",
   "execution_count": 7,
   "id": "69d3c911-bd23-4679-a950-340c8fca612a",
   "metadata": {},
   "outputs": [],
   "source": [
    "reader.Close()"
   ]
  },
  {
   "cell_type": "code",
   "execution_count": 8,
   "id": "270543b5-96b6-43eb-a3a4-008966272f8d",
   "metadata": {},
   "outputs": [],
   "source": [
    "conn.Close()"
   ]
  }
 ],
 "metadata": {
  "kernelspec": {
   "display_name": "Python 3.10.5 ('3.10.5')",
   "language": "python",
   "name": "python3"
  },
  "language_info": {
   "codemirror_mode": {
    "name": "ipython",
    "version": 3
   },
   "file_extension": ".py",
   "mimetype": "text/x-python",
   "name": "python",
   "nbconvert_exporter": "python",
   "pygments_lexer": "ipython3",
   "version": "3.10.5"
  },
  "vscode": {
   "interpreter": {
    "hash": "c1e0c7d189aa9f5bc9fd5bdad6ee7933cc19adc4a6122ade259a5f1eebd7cec6"
   }
  }
 },
 "nbformat": 4,
 "nbformat_minor": 5
}
