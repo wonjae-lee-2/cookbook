{
 "cells": [
  {
   "cell_type": "code",
   "execution_count": 1,
   "id": "7fa9bc64-5e9d-4eea-9cb2-75f70a566bbb",
   "metadata": {},
   "outputs": [],
   "source": [
    "from dask_kubernetes import KubeCluster, make_pod_spec\n",
    "from dask.distributed import Client\n",
    "import dask.array as da"
   ]
  },
  {
   "cell_type": "code",
   "execution_count": 2,
   "id": "b96b2935-f970-467e-8d7a-f14983e7e0a2",
   "metadata": {},
   "outputs": [],
   "source": [
    "scheduler_spec = make_pod_spec(\n",
    "    image='ghcr.io/dask/dask:latest',\n",
    "    memory_request='16G',\n",
    "    cpu_request=4\n",
    ")"
   ]
  },
  {
   "cell_type": "code",
   "execution_count": 3,
   "id": "4af9df5e-7583-4a25-89c5-f233f45b5556",
   "metadata": {},
   "outputs": [],
   "source": [
    "worker_spec = make_pod_spec(\n",
    "    image='ghcr.io/dask/dask:latest',\n",
    "    memory_request='4G',\n",
    "    cpu_request=1\n",
    ")"
   ]
  },
  {
   "cell_type": "markdown",
   "id": "70dbb296-e6fd-49f6-ba2a-15b2392eabb9",
   "metadata": {},
   "source": [
    "Open a new terminal in this Jupyter Lab to automatically run `~/keys/gcloud-auth.sh` at startup. Using the terminal,\n",
    "\n",
    "* `bash` activate the bash shell. \n",
    "\n",
    "* `gcloud container clusters resize cluster-1 --num-nodes=1 --zone=us-central1-c` Resize `cluster-1` in the zone `us-central1-c` to 1 or more."
   ]
  },
  {
   "cell_type": "code",
   "execution_count": 4,
   "id": "44843321-2458-4f6e-bb6d-ab5843497bf3",
   "metadata": {},
   "outputs": [
    {
     "name": "stdout",
     "output_type": "stream",
     "text": [
      "Creating scheduler pod on cluster. This may take some time.\n"
     ]
    }
   ],
   "source": [
    "cluster = KubeCluster(\n",
    "    scheduler_pod_template=scheduler_spec,\n",
    "    pod_template=worker_spec,\n",
    "    namespace='cluster'\n",
    ")"
   ]
  },
  {
   "cell_type": "code",
   "execution_count": 5,
   "id": "3f5faa34-1c98-4645-a5ce-afe2b7249ddf",
   "metadata": {},
   "outputs": [
    {
     "data": {
      "text/html": [
       "<div class=\"jp-RenderedHTMLCommon jp-RenderedHTML jp-mod-trusted jp-OutputArea-output\">\n",
       "    <div style=\"width: 24px; height: 24px; background-color: #e1e1e1; border: 3px solid #9D9D9D; border-radius: 5px; position: absolute;\">\n",
       "    </div>\n",
       "    <div style=\"margin-left: 48px;\">\n",
       "        <h3 style=\"margin-bottom: 0px; margin-top: 0px;\">KubeCluster</h3>\n",
       "        <p style=\"color: #9D9D9D; margin-bottom: 0px;\">dask-python-cc66186c-0</p>\n",
       "        <table style=\"width: 100%; text-align: left;\">\n",
       "            <tr>\n",
       "                <td style=\"text-align: left;\">\n",
       "                    <strong>Dashboard:</strong> <a href=\"http://localhost:63156/status\" target=\"_blank\">http://localhost:63156/status</a>\n",
       "                </td>\n",
       "                <td style=\"text-align: left;\">\n",
       "                    <strong>Workers:</strong> 0\n",
       "                </td>\n",
       "            </tr>\n",
       "            <tr>\n",
       "                <td style=\"text-align: left;\">\n",
       "                    <strong>Total threads:</strong> 0\n",
       "                </td>\n",
       "                <td style=\"text-align: left;\">\n",
       "                    <strong>Total memory:</strong> 0 B\n",
       "                </td>\n",
       "            </tr>\n",
       "            \n",
       "        </table>\n",
       "\n",
       "        <details>\n",
       "            <summary style=\"margin-bottom: 20px;\">\n",
       "                <h3 style=\"display: inline;\">Scheduler Info</h3>\n",
       "            </summary>\n",
       "\n",
       "            <div style=\"\">\n",
       "    <div>\n",
       "        <div style=\"width: 24px; height: 24px; background-color: #FFF7E5; border: 3px solid #FF6132; border-radius: 5px; position: absolute;\"> </div>\n",
       "        <div style=\"margin-left: 48px;\">\n",
       "            <h3 style=\"margin-bottom: 0px;\">Scheduler</h3>\n",
       "            <p style=\"color: #9D9D9D; margin-bottom: 0px;\">Scheduler-a4647f0f-1452-4af0-b007-7e2a4f824996</p>\n",
       "            <table style=\"width: 100%; text-align: left;\">\n",
       "                <tr>\n",
       "                    <td style=\"text-align: left;\">\n",
       "                        <strong>Comm:</strong> tcp://10.4.0.10:8786\n",
       "                    </td>\n",
       "                    <td style=\"text-align: left;\">\n",
       "                        <strong>Workers:</strong> 0\n",
       "                    </td>\n",
       "                </tr>\n",
       "                <tr>\n",
       "                    <td style=\"text-align: left;\">\n",
       "                        <strong>Dashboard:</strong> <a href=\"http://10.4.0.10:8787/status\" target=\"_blank\">http://10.4.0.10:8787/status</a>\n",
       "                    </td>\n",
       "                    <td style=\"text-align: left;\">\n",
       "                        <strong>Total threads:</strong> 0\n",
       "                    </td>\n",
       "                </tr>\n",
       "                <tr>\n",
       "                    <td style=\"text-align: left;\">\n",
       "                        <strong>Started:</strong> Just now\n",
       "                    </td>\n",
       "                    <td style=\"text-align: left;\">\n",
       "                        <strong>Total memory:</strong> 0 B\n",
       "                    </td>\n",
       "                </tr>\n",
       "            </table>\n",
       "        </div>\n",
       "    </div>\n",
       "\n",
       "    <details style=\"margin-left: 48px;\">\n",
       "        <summary style=\"margin-bottom: 20px;\">\n",
       "            <h3 style=\"display: inline;\">Workers</h3>\n",
       "        </summary>\n",
       "\n",
       "        \n",
       "\n",
       "    </details>\n",
       "</div>\n",
       "\n",
       "        </details>\n",
       "    </div>\n",
       "</div>"
      ],
      "text/plain": [
       "KubeCluster(dask-python-cc66186c-0, 'tcp://localhost:60025', workers=0, threads=0, memory=0 B)"
      ]
     },
     "metadata": {},
     "output_type": "display_data"
    }
   ],
   "source": [
    "cluster"
   ]
  },
  {
   "cell_type": "markdown",
   "id": "e4d86afc-9ac1-4b9b-a2f1-9896b758f5aa",
   "metadata": {},
   "source": [
    "Using the terminal of the virtual machine (instead of the terminal on this Jupyter Lab), \n",
    "\n",
    "* `-L 8700:localhost:8700` Request local forward from the local machine to the virtual machine. Use the port 8700 instead of 8787 to avoid collision with RStudio.\n",
    "\n",
    "* `kubectl port-forward service/<service-name> 8700:8787` Forward the port from the virtual machine to the dask service on the kubernetes cluster. Copy the service name under the \"KubeCluster\" in the cell output above.\n",
    "\n",
    "Then go to `localhost:8700` in the web browser on the local machine to access Dask dashboards."
   ]
  },
  {
   "cell_type": "code",
   "execution_count": 6,
   "id": "671d354c-acbd-4066-b743-c0c55c9057ab",
   "metadata": {},
   "outputs": [],
   "source": [
    "cluster.scale(10)"
   ]
  },
  {
   "cell_type": "code",
   "execution_count": 7,
   "id": "6302f05a-4c11-4a69-a505-c2f52d2f7996",
   "metadata": {},
   "outputs": [
    {
     "name": "stderr",
     "output_type": "stream",
     "text": [
      "/usr/local/lib/python3.10/site-packages/distributed/client.py:1274: VersionMismatchWarning: Mismatched versions found\n",
      "\n",
      "+---------+----------------+----------------+----------------+\n",
      "| Package | client         | scheduler      | workers        |\n",
      "+---------+----------------+----------------+----------------+\n",
      "| lz4     | 4.0.1          | 4.0.0          | 4.0.0          |\n",
      "| python  | 3.10.5.final.0 | 3.8.13.final.0 | 3.8.13.final.0 |\n",
      "+---------+----------------+----------------+----------------+\n",
      "  warnings.warn(version_module.VersionMismatchWarning(msg[0][\"warning\"]))\n"
     ]
    },
    {
     "name": "stdout",
     "output_type": "stream",
     "text": [
      "1.0\n"
     ]
    }
   ],
   "source": [
    "with Client(cluster) as client:\n",
    "    array = da.ones((10000, 10000, 10000))\n",
    "    print(array.mean().compute())    "
   ]
  },
  {
   "cell_type": "code",
   "execution_count": 8,
   "id": "ac67b1af-183e-4f2a-940d-c2ccdc1776b5",
   "metadata": {},
   "outputs": [],
   "source": [
    "cluster.close()"
   ]
  },
  {
   "cell_type": "markdown",
   "id": "41377fe9-6f18-49ed-89fa-530961e76a54",
   "metadata": {},
   "source": [
    "Using the terminal on the virtual machine,\n",
    "\n",
    "* Press `ctrl` + `c` to stop port-forwarding to the service using `kubectl`.\n",
    "\n",
    "* `gcloud container clusters resize cluster-1 --async --num-nodes=0 --zone=us-central1-c` Asynchronously resize `cluster-1` in the zone `us-central1-c` to 0.\n",
    "\n",
    "* `-KL 8700` Stop local forward from the local machine to the virtual machine."
   ]
  }
 ],
 "metadata": {
  "kernelspec": {
   "display_name": "Python 3 (ipykernel)",
   "language": "python",
   "name": "python3"
  },
  "language_info": {
   "codemirror_mode": {
    "name": "ipython",
    "version": 3
   },
   "file_extension": ".py",
   "mimetype": "text/x-python",
   "name": "python",
   "nbconvert_exporter": "python",
   "pygments_lexer": "ipython3",
   "version": "3.10.5"
  }
 },
 "nbformat": 4,
 "nbformat_minor": 5
}
