{
 "cells": [
  {
   "cell_type": "code",
   "execution_count": 1,
   "id": "7fa9bc64-5e9d-4eea-9cb2-75f70a566bbb",
   "metadata": {},
   "outputs": [],
   "source": [
    "from dask_kubernetes import KubeCluster, make_pod_spec\n",
    "from dask.distributed import Client\n",
    "import dask.array as da"
   ]
  },
  {
   "cell_type": "code",
   "execution_count": 2,
   "id": "4af9df5e-7583-4a25-89c5-f233f45b5556",
   "metadata": {},
   "outputs": [],
   "source": [
    "pod_spec = make_pod_spec(\n",
    "    image='ghcr.io/dask/dask:latest',\n",
    "    memory_request='4G',\n",
    "    cpu_request=1\n",
    ")"
   ]
  },
  {
   "cell_type": "code",
   "execution_count": 3,
   "id": "44843321-2458-4f6e-bb6d-ab5843497bf3",
   "metadata": {},
   "outputs": [
    {
     "name": "stdout",
     "output_type": "stream",
     "text": [
      "Creating scheduler pod on cluster. This may take some time.\n"
     ]
    }
   ],
   "source": [
    "cluster = KubeCluster(pod_spec, namespace='cluster')"
   ]
  },
  {
   "cell_type": "markdown",
   "id": "e4d86afc-9ac1-4b9b-a2f1-9896b758f5aa",
   "metadata": {},
   "source": [
    "Open a new terminal on the virtual machine and request local forward for 8787.\n",
    "Type `kubectl get all` to check the name of the scheduler pod.\n",
    "Type `kubectl port-forward <schedulre-pod-name> 8787:8787` on the virtual machine.\n",
    "Then go to `localhost:8787` in the web browser on the local machine to access Dask dashboards."
   ]
  },
  {
   "cell_type": "code",
   "execution_count": 4,
   "id": "671d354c-acbd-4066-b743-c0c55c9057ab",
   "metadata": {},
   "outputs": [],
   "source": [
    "cluster.scale(10)"
   ]
  },
  {
   "cell_type": "code",
   "execution_count": 5,
   "id": "6302f05a-4c11-4a69-a505-c2f52d2f7996",
   "metadata": {},
   "outputs": [
    {
     "name": "stderr",
     "output_type": "stream",
     "text": [
      "/usr/local/lib/python3.10/site-packages/distributed/client.py:1274: VersionMismatchWarning: Mismatched versions found\n",
      "\n",
      "+---------+----------------+----------------+----------------+\n",
      "| Package | client         | scheduler      | workers        |\n",
      "+---------+----------------+----------------+----------------+\n",
      "| lz4     | None           | 4.0.0          | 4.0.0          |\n",
      "| python  | 3.10.5.final.0 | 3.8.13.final.0 | 3.8.13.final.0 |\n",
      "+---------+----------------+----------------+----------------+\n",
      "  warnings.warn(version_module.VersionMismatchWarning(msg[0][\"warning\"]))\n"
     ]
    },
    {
     "name": "stdout",
     "output_type": "stream",
     "text": [
      "1.0\n"
     ]
    }
   ],
   "source": [
    "with Client(cluster) as client:\n",
    "    array = da.ones((10000, 10000, 10000))\n",
    "    print(array.mean().compute())    "
   ]
  },
  {
   "cell_type": "code",
   "execution_count": 6,
   "id": "ac67b1af-183e-4f2a-940d-c2ccdc1776b5",
   "metadata": {},
   "outputs": [],
   "source": [
    "cluster.close()"
   ]
  }
 ],
 "metadata": {
  "kernelspec": {
   "display_name": "Python 3 (ipykernel)",
   "language": "python",
   "name": "python3"
  },
  "language_info": {
   "codemirror_mode": {
    "name": "ipython",
    "version": 3
   },
   "file_extension": ".py",
   "mimetype": "text/x-python",
   "name": "python",
   "nbconvert_exporter": "python",
   "pygments_lexer": "ipython3",
   "version": "3.10.5"
  }
 },
 "nbformat": 4,
 "nbformat_minor": 5
}
