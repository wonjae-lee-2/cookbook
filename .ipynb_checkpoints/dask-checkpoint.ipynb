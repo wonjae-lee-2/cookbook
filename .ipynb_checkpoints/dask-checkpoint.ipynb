{
 "cells": [
  {
   "cell_type": "code",
   "execution_count": 1,
   "id": "7fa9bc64-5e9d-4eea-9cb2-75f70a566bbb",
   "metadata": {},
   "outputs": [],
   "source": [
    "from dask_kubernetes import KubeCluster, make_pod_spec\n",
    "from dask.distributed import Client\n",
    "import dask.array as da"
   ]
  },
  {
   "cell_type": "code",
   "execution_count": 2,
   "id": "b96b2935-f970-467e-8d7a-f14983e7e0a2",
   "metadata": {},
   "outputs": [],
   "source": [
    "scheduler_spec = make_pod_spec(\n",
    "    image='ghcr.io/dask/dask:latest',\n",
    "    memory_limit='16G',\n",
    "    memory_request='16G',\n",
    "    cpu_limit=4,\n",
    "    cpu_request=4\n",
    ")"
   ]
  },
  {
   "cell_type": "code",
   "execution_count": 3,
   "id": "4af9df5e-7583-4a25-89c5-f233f45b5556",
   "metadata": {},
   "outputs": [],
   "source": [
    "worker_spec = make_pod_spec(\n",
    "    image='ghcr.io/dask/dask:latest',\n",
    "    memory_limit='4G',\n",
    "    memory_request='4G',\n",
    "    cpu_limit=1,\n",
    "    cpu_request=1\n",
    ")"
   ]
  },
  {
   "cell_type": "markdown",
   "id": "70dbb296-e6fd-49f6-ba2a-15b2392eabb9",
   "metadata": {},
   "source": [
    "Open a new terminal in this Jupyter Lab to automatically run `~/keys/gcloud-auth.sh` at startup. Using the terminal,\n",
    "\n",
    "* `bash` activate the bash shell."
   ]
  },
  {
   "cell_type": "code",
   "execution_count": 4,
   "id": "44843321-2458-4f6e-bb6d-ab5843497bf3",
   "metadata": {},
   "outputs": [
    {
     "name": "stdout",
     "output_type": "stream",
     "text": [
      "Creating scheduler pod on cluster. This may take some time.\n"
     ]
    }
   ],
   "source": [
    "cluster = KubeCluster(\n",
    "    scheduler_pod_template=scheduler_spec,\n",
    "    pod_template=worker_spec,\n",
    "    namespace='dask' # This should match the namespace created by gcloud-auth.sh with the environment variable from compose.yml.\n",
    ")"
   ]
  },
  {
   "cell_type": "markdown",
   "id": "f705c757-334a-4864-b6e5-0e6cf7e7f898",
   "metadata": {},
   "source": [
    "Using the Jupyter Lab terminal,\n",
    "\n",
    "* `kubectl get all` Check the name of the scheduler pod.\n",
    "\n",
    "* `kubectl wait --for=condition=Ready pod/<scheduler-pod-name> --timeout=600s` Wait until the scheduler pod is ready."
   ]
  },
  {
   "cell_type": "code",
   "execution_count": 5,
   "id": "3f5faa34-1c98-4645-a5ce-afe2b7249ddf",
   "metadata": {},
   "outputs": [
    {
     "data": {
      "text/html": [
       "<div class=\"jp-RenderedHTMLCommon jp-RenderedHTML jp-mod-trusted jp-OutputArea-output\">\n",
       "    <div style=\"width: 24px; height: 24px; background-color: #e1e1e1; border: 3px solid #9D9D9D; border-radius: 5px; position: absolute;\">\n",
       "    </div>\n",
       "    <div style=\"margin-left: 48px;\">\n",
       "        <h3 style=\"margin-bottom: 0px; margin-top: 0px;\">KubeCluster</h3>\n",
       "        <p style=\"color: #9D9D9D; margin-bottom: 0px;\">dask-root-31009a24-1</p>\n",
       "        <table style=\"width: 100%; text-align: left;\">\n",
       "            <tr>\n",
       "                <td style=\"text-align: left;\">\n",
       "                    <strong>Dashboard:</strong> <a href=\"http://localhost:60110/status\" target=\"_blank\">http://localhost:60110/status</a>\n",
       "                </td>\n",
       "                <td style=\"text-align: left;\">\n",
       "                    <strong>Workers:</strong> 0\n",
       "                </td>\n",
       "            </tr>\n",
       "            <tr>\n",
       "                <td style=\"text-align: left;\">\n",
       "                    <strong>Total threads:</strong> 0\n",
       "                </td>\n",
       "                <td style=\"text-align: left;\">\n",
       "                    <strong>Total memory:</strong> 0 B\n",
       "                </td>\n",
       "            </tr>\n",
       "            \n",
       "        </table>\n",
       "\n",
       "        <details>\n",
       "            <summary style=\"margin-bottom: 20px;\">\n",
       "                <h3 style=\"display: inline;\">Scheduler Info</h3>\n",
       "            </summary>\n",
       "\n",
       "            <div style=\"\">\n",
       "    <div>\n",
       "        <div style=\"width: 24px; height: 24px; background-color: #FFF7E5; border: 3px solid #FF6132; border-radius: 5px; position: absolute;\"> </div>\n",
       "        <div style=\"margin-left: 48px;\">\n",
       "            <h3 style=\"margin-bottom: 0px;\">Scheduler</h3>\n",
       "            <p style=\"color: #9D9D9D; margin-bottom: 0px;\">Scheduler-46808f33-8c17-4785-b4a0-f778ace54487</p>\n",
       "            <table style=\"width: 100%; text-align: left;\">\n",
       "                <tr>\n",
       "                    <td style=\"text-align: left;\">\n",
       "                        <strong>Comm:</strong> tcp://10.8.0.131:8786\n",
       "                    </td>\n",
       "                    <td style=\"text-align: left;\">\n",
       "                        <strong>Workers:</strong> 0\n",
       "                    </td>\n",
       "                </tr>\n",
       "                <tr>\n",
       "                    <td style=\"text-align: left;\">\n",
       "                        <strong>Dashboard:</strong> <a href=\"http://10.8.0.131:8787/status\" target=\"_blank\">http://10.8.0.131:8787/status</a>\n",
       "                    </td>\n",
       "                    <td style=\"text-align: left;\">\n",
       "                        <strong>Total threads:</strong> 0\n",
       "                    </td>\n",
       "                </tr>\n",
       "                <tr>\n",
       "                    <td style=\"text-align: left;\">\n",
       "                        <strong>Started:</strong> Just now\n",
       "                    </td>\n",
       "                    <td style=\"text-align: left;\">\n",
       "                        <strong>Total memory:</strong> 0 B\n",
       "                    </td>\n",
       "                </tr>\n",
       "            </table>\n",
       "        </div>\n",
       "    </div>\n",
       "\n",
       "    <details style=\"margin-left: 48px;\">\n",
       "        <summary style=\"margin-bottom: 20px;\">\n",
       "            <h3 style=\"display: inline;\">Workers</h3>\n",
       "        </summary>\n",
       "\n",
       "        \n",
       "\n",
       "    </details>\n",
       "</div>\n",
       "\n",
       "        </details>\n",
       "    </div>\n",
       "</div>"
      ],
      "text/plain": [
       "KubeCluster(dask-root-31009a24-1, 'tcp://localhost:53764', workers=0, threads=0, memory=0 B)"
      ]
     },
     "metadata": {},
     "output_type": "display_data"
    }
   ],
   "source": [
    "cluster"
   ]
  },
  {
   "cell_type": "markdown",
   "id": "e4d86afc-9ac1-4b9b-a2f1-9896b758f5aa",
   "metadata": {},
   "source": [
    "Using the WSL terminal (instead of the terminal on this Jupyter Lab),\n",
    "\n",
    "* `kubectl port-forward service/<service-name> 8700:8787 -n dask` Forward the port from WSL to the dask service on the kubernetes cluster. Copy the service name under the \"KubeCluster\" in the cell output above.\n",
    "\n",
    "* Go to `localhost:8700` in the web browser on the local machine to access Dask dashboards."
   ]
  },
  {
   "cell_type": "code",
   "execution_count": 6,
   "id": "671d354c-acbd-4066-b743-c0c55c9057ab",
   "metadata": {},
   "outputs": [],
   "source": [
    "cluster.scale(10)"
   ]
  },
  {
   "cell_type": "code",
   "execution_count": 7,
   "id": "6302f05a-4c11-4a69-a505-c2f52d2f7996",
   "metadata": {},
   "outputs": [
    {
     "name": "stderr",
     "output_type": "stream",
     "text": [
      "/usr/local/lib/python3.10/site-packages/distributed/client.py:1274: VersionMismatchWarning: Mismatched versions found\n",
      "\n",
      "+---------+----------------+----------------+----------------+\n",
      "| Package | client         | scheduler      | workers        |\n",
      "+---------+----------------+----------------+----------------+\n",
      "| lz4     | 4.0.1          | 4.0.0          | 4.0.0          |\n",
      "| numpy   | 1.23.1         | 1.23.0         | 1.23.0         |\n",
      "| python  | 3.10.5.final.0 | 3.8.13.final.0 | 3.8.13.final.0 |\n",
      "| toolz   | 0.12.0         | 0.11.2         | 0.11.2         |\n",
      "+---------+----------------+----------------+----------------+\n",
      "  warnings.warn(version_module.VersionMismatchWarning(msg[0][\"warning\"]))\n"
     ]
    },
    {
     "name": "stdout",
     "output_type": "stream",
     "text": [
      "1.0\n"
     ]
    }
   ],
   "source": [
    "with Client(cluster) as client:\n",
    "    array = da.ones((10000, 10000, 10000))\n",
    "    print(array.mean().compute())    "
   ]
  },
  {
   "cell_type": "code",
   "execution_count": 8,
   "id": "ac67b1af-183e-4f2a-940d-c2ccdc1776b5",
   "metadata": {},
   "outputs": [],
   "source": [
    "cluster.close()"
   ]
  },
  {
   "cell_type": "markdown",
   "id": "41377fe9-6f18-49ed-89fa-530961e76a54",
   "metadata": {},
   "source": [
    "Using the WSL terminal,\n",
    "\n",
    "* Press `ctrl` + `c` to stop port-forwarding to the service using `kubectl`."
   ]
  }
 ],
 "metadata": {
  "kernelspec": {
   "display_name": "Python 3 (ipykernel)",
   "language": "python",
   "name": "python3"
  },
  "language_info": {
   "codemirror_mode": {
    "name": "ipython",
    "version": 3
   },
   "file_extension": ".py",
   "mimetype": "text/x-python",
   "name": "python",
   "nbconvert_exporter": "python",
   "pygments_lexer": "ipython3",
   "version": "3.10.5"
  }
 },
 "nbformat": 4,
 "nbformat_minor": 5
}
