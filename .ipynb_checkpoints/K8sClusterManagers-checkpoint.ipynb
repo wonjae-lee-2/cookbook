{
 "cells": [
  {
   "cell_type": "code",
   "execution_count": 5,
   "id": "c6ab21a6-c7b1-447b-81f9-5576e7873a6e",
   "metadata": {},
   "outputs": [
    {
     "ename": "LoadError",
     "evalue": "ArgumentError: Package JSON not found in current path:\n- Run `import Pkg; Pkg.add(\"JSON\")` to install the JSON package.\n",
     "output_type": "error",
     "traceback": [
      "ArgumentError: Package JSON not found in current path:\n- Run `import Pkg; Pkg.add(\"JSON\")` to install the JSON package.\n",
      "",
      "Stacktrace:",
      " [1] require(into::Module, mod::Symbol)",
      "   @ Base ./loading.jl:967",
      " [2] eval",
      "   @ ./boot.jl:373 [inlined]",
      " [3] include_string(mapexpr::typeof(REPL.softscope), mod::Module, code::String, filename::String)",
      "   @ Base ./loading.jl:1196"
     ]
    }
   ],
   "source": [
    "using Distributed, K8sClusterManagers"
   ]
  },
  {
   "cell_type": "code",
   "execution_count": 2,
   "id": "473b2c2a-d99d-4ba0-b24a-e7628a8fb40a",
   "metadata": {},
   "outputs": [
    {
     "data": {
      "text/plain": [
       "1-element Vector{Int64}:\n",
       " 1"
      ]
     },
     "execution_count": 2,
     "metadata": {},
     "output_type": "execute_result"
    }
   ],
   "source": [
    "procs()"
   ]
  },
  {
   "cell_type": "code",
   "execution_count": 7,
   "id": "0c90f72d-6d86-43ee-819c-a1d2dc6dbb83",
   "metadata": {},
   "outputs": [
    {
     "name": "stderr",
     "output_type": "stream",
     "text": [
      "┌ Info: julia-worker-8xpbb is up\n",
      "└ @ K8sClusterManagers /root/.julia/packages/K8sClusterManagers/PIZ9P/src/native_driver.jl:116\n",
      "┌ Info: julia-worker-lz6pf is up\n",
      "└ @ K8sClusterManagers /root/.julia/packages/K8sClusterManagers/PIZ9P/src/native_driver.jl:116\n",
      "┌ Info: julia-worker-jmrj7 is up\n",
      "└ @ K8sClusterManagers /root/.julia/packages/K8sClusterManagers/PIZ9P/src/native_driver.jl:116\n",
      "┌ Info: julia-worker-tpcwp is up\n",
      "└ @ K8sClusterManagers /root/.julia/packages/K8sClusterManagers/PIZ9P/src/native_driver.jl:116\n",
      "┌ Info: julia-worker-gz8kn is up\n",
      "└ @ K8sClusterManagers /root/.julia/packages/K8sClusterManagers/PIZ9P/src/native_driver.jl:116\n",
      "┌ Info: julia-worker-blfr6 is up\n",
      "└ @ K8sClusterManagers /root/.julia/packages/K8sClusterManagers/PIZ9P/src/native_driver.jl:116\n",
      "┌ Info: julia-worker-bzrlz is up\n",
      "└ @ K8sClusterManagers /root/.julia/packages/K8sClusterManagers/PIZ9P/src/native_driver.jl:116\n",
      "┌ Info: julia-worker-fwt7t is up\n",
      "└ @ K8sClusterManagers /root/.julia/packages/K8sClusterManagers/PIZ9P/src/native_driver.jl:116\n",
      "┌ Info: julia-worker-dmf9w is up\n",
      "└ @ K8sClusterManagers /root/.julia/packages/K8sClusterManagers/PIZ9P/src/native_driver.jl:116\n",
      "┌ Info: julia-worker-wj47n is up\n",
      "└ @ K8sClusterManagers /root/.julia/packages/K8sClusterManagers/PIZ9P/src/native_driver.jl:116\n"
     ]
    },
    {
     "data": {
      "text/plain": [
       "10-element Vector{Int64}:\n",
       "  2\n",
       "  3\n",
       "  4\n",
       "  5\n",
       "  6\n",
       "  7\n",
       "  8\n",
       "  9\n",
       " 10\n",
       " 11"
      ]
     },
     "execution_count": 7,
     "metadata": {},
     "output_type": "execute_result"
    }
   ],
   "source": [
    "addprocs(K8sClusterManager(10; cpu = 1, memory = \"4G\"))"
   ]
  },
  {
   "cell_type": "code",
   "execution_count": 8,
   "id": "f98bed95-f481-4c01-84dc-5f77c7ca3bfe",
   "metadata": {},
   "outputs": [
    {
     "data": {
      "text/plain": [
       "Task (done) @0x00007f1eea513b00"
      ]
     },
     "execution_count": 8,
     "metadata": {},
     "output_type": "execute_result"
    }
   ],
   "source": [
    "rmprocs(workers())"
   ]
  },
  {
   "cell_type": "code",
   "execution_count": 9,
   "id": "3feb0df3-caf2-4e40-a0bf-b16a0cdb1dfd",
   "metadata": {},
   "outputs": [
    {
     "data": {
      "text/plain": [
       "1-element Vector{Int64}:\n",
       " 1"
      ]
     },
     "execution_count": 9,
     "metadata": {},
     "output_type": "execute_result"
    }
   ],
   "source": [
    "procs()"
   ]
  }
 ],
 "metadata": {
  "kernelspec": {
   "display_name": "Julia 1.7.3",
   "language": "julia",
   "name": "julia-1.7"
  },
  "language_info": {
   "file_extension": ".jl",
   "mimetype": "application/julia",
   "name": "julia",
   "version": "1.7.3"
  }
 },
 "nbformat": 4,
 "nbformat_minor": 5
}
