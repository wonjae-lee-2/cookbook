{
 "cells": [
  {
   "cell_type": "code",
   "execution_count": 1,
   "id": "c6ab21a6-c7b1-447b-81f9-5576e7873a6e",
   "metadata": {},
   "outputs": [],
   "source": [
    "using Distributed, K8sClusterManagers"
   ]
  },
  {
   "cell_type": "code",
   "execution_count": 2,
   "id": "473b2c2a-d99d-4ba0-b24a-e7628a8fb40a",
   "metadata": {},
   "outputs": [
    {
     "data": {
      "text/plain": [
       "1-element Vector{Int64}:\n",
       " 1"
      ]
     },
     "execution_count": 2,
     "metadata": {},
     "output_type": "execute_result"
    }
   ],
   "source": [
    "procs()"
   ]
  },
  {
   "cell_type": "code",
   "execution_count": 3,
   "id": "0c90f72d-6d86-43ee-819c-a1d2dc6dbb83",
   "metadata": {},
   "outputs": [
    {
     "name": "stderr",
     "output_type": "stream",
     "text": [
      "┌ Info: julia-worker-k26c2 is up\n",
      "└ @ K8sClusterManagers /home/julia/.julia/packages/K8sClusterManagers/PIZ9P/src/native_driver.jl:116\n",
      "┌ Info: julia-worker-5fqrb is up\n",
      "└ @ K8sClusterManagers /home/julia/.julia/packages/K8sClusterManagers/PIZ9P/src/native_driver.jl:116\n",
      "┌ Info: julia-worker-p8k97 is up\n",
      "└ @ K8sClusterManagers /home/julia/.julia/packages/K8sClusterManagers/PIZ9P/src/native_driver.jl:116\n",
      "┌ Info: julia-worker-798x6 is up\n",
      "└ @ K8sClusterManagers /home/julia/.julia/packages/K8sClusterManagers/PIZ9P/src/native_driver.jl:116\n",
      "┌ Info: julia-worker-mkvkt is up\n",
      "└ @ K8sClusterManagers /home/julia/.julia/packages/K8sClusterManagers/PIZ9P/src/native_driver.jl:116\n",
      "┌ Info: julia-worker-n574b is up\n",
      "└ @ K8sClusterManagers /home/julia/.julia/packages/K8sClusterManagers/PIZ9P/src/native_driver.jl:116\n",
      "┌ Info: julia-worker-8xcct is up\n",
      "└ @ K8sClusterManagers /home/julia/.julia/packages/K8sClusterManagers/PIZ9P/src/native_driver.jl:116\n",
      "┌ Info: julia-worker-lx2kl is up\n",
      "└ @ K8sClusterManagers /home/julia/.julia/packages/K8sClusterManagers/PIZ9P/src/native_driver.jl:116\n",
      "┌ Info: julia-worker-mbq9n is up\n",
      "└ @ K8sClusterManagers /home/julia/.julia/packages/K8sClusterManagers/PIZ9P/src/native_driver.jl:116\n",
      "┌ Info: julia-worker-jtdkv is up\n",
      "└ @ K8sClusterManagers /home/julia/.julia/packages/K8sClusterManagers/PIZ9P/src/native_driver.jl:116\n"
     ]
    },
    {
     "data": {
      "text/plain": [
       "10-element Vector{Int64}:\n",
       "  2\n",
       "  3\n",
       "  4\n",
       "  5\n",
       "  6\n",
       "  7\n",
       "  8\n",
       "  9\n",
       " 10\n",
       " 11"
      ]
     },
     "execution_count": 3,
     "metadata": {},
     "output_type": "execute_result"
    }
   ],
   "source": [
    "addprocs(K8sClusterManager(10; cpu = 1, memory = \"4G\"))"
   ]
  },
  {
   "cell_type": "markdown",
   "id": "d51b266b",
   "metadata": {},
   "source": [
    "Open a new terminal on the virtual machine. Using the terminal,\n",
    "\n",
    "* `kubectl get all` List all worker pods created by the master pod."
   ]
  },
  {
   "cell_type": "code",
   "execution_count": 4,
   "id": "40cf20d6-4786-4907-a67d-9c6563e42e49",
   "metadata": {},
   "outputs": [
    {
     "data": {
      "text/plain": [
       "11-element Vector{Int64}:\n",
       "  1\n",
       "  2\n",
       "  3\n",
       "  4\n",
       "  5\n",
       "  6\n",
       "  7\n",
       "  8\n",
       "  9\n",
       " 10\n",
       " 11"
      ]
     },
     "execution_count": 4,
     "metadata": {},
     "output_type": "execute_result"
    }
   ],
   "source": [
    "procs()"
   ]
  },
  {
   "cell_type": "code",
   "execution_count": 5,
   "id": "bee33c51-fbb2-4840-8ce5-00a939ce9d6e",
   "metadata": {},
   "outputs": [
    {
     "data": {
      "text/plain": [
       "999978871"
      ]
     },
     "execution_count": 5,
     "metadata": {},
     "output_type": "execute_result"
    }
   ],
   "source": [
    "nheads = @distributed (+) for i = 1:2000000000\n",
    "    Int(rand(Bool))\n",
    "end"
   ]
  },
  {
   "cell_type": "code",
   "execution_count": 6,
   "id": "f98bed95-f481-4c01-84dc-5f77c7ca3bfe",
   "metadata": {},
   "outputs": [
    {
     "data": {
      "text/plain": [
       "Task (done) @0x00007fac957bf3d0"
      ]
     },
     "execution_count": 6,
     "metadata": {},
     "output_type": "execute_result"
    }
   ],
   "source": [
    "rmprocs(workers())"
   ]
  },
  {
   "cell_type": "code",
   "execution_count": 7,
   "id": "3feb0df3-caf2-4e40-a0bf-b16a0cdb1dfd",
   "metadata": {},
   "outputs": [
    {
     "data": {
      "text/plain": [
       "1-element Vector{Int64}:\n",
       " 1"
      ]
     },
     "execution_count": 7,
     "metadata": {},
     "output_type": "execute_result"
    }
   ],
   "source": [
    "procs()"
   ]
  },
  {
   "cell_type": "markdown",
   "id": "ea177b7b-b9ab-4210-bf0a-9eb4cdb0ffc9",
   "metadata": {},
   "source": [
    "Using the terminal on the virtual machine,\n",
    "\n",
    "* `gcloud container clusters resize cluster-1 --async --num-nodes=0 --zone=us-central1-c` Asynchronously resize `cluster-1` in the zone `us-central1-c` to 0."
   ]
  }
 ],
 "metadata": {
  "kernelspec": {
   "display_name": "Julia 1.7.3",
   "language": "julia",
   "name": "julia-1.7"
  },
  "language_info": {
   "file_extension": ".jl",
   "mimetype": "application/julia",
   "name": "julia",
   "version": "1.7.3"
  }
 },
 "nbformat": 4,
 "nbformat_minor": 5
}
