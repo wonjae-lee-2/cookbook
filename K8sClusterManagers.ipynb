{
 "cells": [
  {
   "cell_type": "code",
   "execution_count": 1,
   "id": "c6ab21a6-c7b1-447b-81f9-5576e7873a6e",
   "metadata": {},
   "outputs": [],
   "source": [
    "using Distributed, K8sClusterManagers"
   ]
  },
  {
   "cell_type": "code",
   "execution_count": 2,
   "id": "473b2c2a-d99d-4ba0-b24a-e7628a8fb40a",
   "metadata": {},
   "outputs": [
    {
     "data": {
      "text/plain": [
       "1-element Vector{Int64}:\n",
       " 1"
      ]
     },
     "execution_count": 2,
     "metadata": {},
     "output_type": "execute_result"
    }
   ],
   "source": [
    "procs()"
   ]
  },
  {
   "cell_type": "markdown",
   "id": "40ed4b56-077e-487a-9b86-d653b7387cda",
   "metadata": {},
   "source": [
    "Using the terminal of the virtual machine (instead of the terminal on this Jupyter Lab), \n",
    "\n",
    "* `gcloud container clusters resize cluster-1 --num-nodes=1 --zone=us-central1-c` Resize `cluster-1` in the zone `us-central1-c` to 1 or more.\n",
    "\n",
    "* `-L 1234:localhost:1234` Request local forward from the local machine to the virtual machine. Use the port 1234 instead of 8888 to avoid collision with Python Jupyter Lab.\n",
    "\n",
    "* `kubectl port-forward pod/julia 1234:1234` Forward the port from the virtual machine to the Julia pod on the kubernetes cluster.\n",
    "\n",
    "Then go to `localhost:1234` in the web browser on the local machine to access Dask dashboards."
   ]
  },
  {
   "cell_type": "code",
   "execution_count": 13,
   "id": "0c90f72d-6d86-43ee-819c-a1d2dc6dbb83",
   "metadata": {},
   "outputs": [
    {
     "name": "stderr",
     "output_type": "stream",
     "text": [
      "┌ Info: julia-worker-g4q7h is up\n",
      "└ @ K8sClusterManagers /home/julia/.julia/packages/K8sClusterManagers/PIZ9P/src/native_driver.jl:116\n",
      "┌ Info: julia-worker-47ht2 is up\n",
      "└ @ K8sClusterManagers /home/julia/.julia/packages/K8sClusterManagers/PIZ9P/src/native_driver.jl:116\n",
      "┌ Info: julia-worker-kj94w is up\n",
      "└ @ K8sClusterManagers /home/julia/.julia/packages/K8sClusterManagers/PIZ9P/src/native_driver.jl:116\n",
      "┌ Info: julia-worker-ppqn2 is up\n",
      "└ @ K8sClusterManagers /home/julia/.julia/packages/K8sClusterManagers/PIZ9P/src/native_driver.jl:116\n",
      "┌ Info: julia-worker-kbnvm is up\n",
      "└ @ K8sClusterManagers /home/julia/.julia/packages/K8sClusterManagers/PIZ9P/src/native_driver.jl:116\n",
      "┌ Info: julia-worker-9psdx is up\n",
      "└ @ K8sClusterManagers /home/julia/.julia/packages/K8sClusterManagers/PIZ9P/src/native_driver.jl:116\n",
      "┌ Info: julia-worker-85x6w is up\n",
      "└ @ K8sClusterManagers /home/julia/.julia/packages/K8sClusterManagers/PIZ9P/src/native_driver.jl:116\n",
      "┌ Info: julia-worker-7868d is up\n",
      "└ @ K8sClusterManagers /home/julia/.julia/packages/K8sClusterManagers/PIZ9P/src/native_driver.jl:116\n",
      "┌ Info: julia-worker-k2bxm is up\n",
      "└ @ K8sClusterManagers /home/julia/.julia/packages/K8sClusterManagers/PIZ9P/src/native_driver.jl:116\n",
      "┌ Info: julia-worker-cslfd is up\n",
      "└ @ K8sClusterManagers /home/julia/.julia/packages/K8sClusterManagers/PIZ9P/src/native_driver.jl:116\n"
     ]
    },
    {
     "data": {
      "text/plain": [
       "10-element Vector{Int64}:\n",
       " 22\n",
       " 23\n",
       " 24\n",
       " 25\n",
       " 26\n",
       " 27\n",
       " 28\n",
       " 29\n",
       " 30\n",
       " 31"
      ]
     },
     "execution_count": 13,
     "metadata": {},
     "output_type": "execute_result"
    }
   ],
   "source": [
    "addprocs(K8sClusterManager(10; cpu = 1, memory = \"4G\"))"
   ]
  },
  {
   "cell_type": "markdown",
   "id": "d51b266b",
   "metadata": {},
   "source": [
    "Open a new terminal on the virtual machine. Using the terminal,\n",
    "\n",
    "* `kubectl get all` List all worker pods created by the master pod."
   ]
  },
  {
   "cell_type": "code",
   "execution_count": 14,
   "id": "40cf20d6-4786-4907-a67d-9c6563e42e49",
   "metadata": {},
   "outputs": [
    {
     "data": {
      "text/plain": [
       "11-element Vector{Int64}:\n",
       "  1\n",
       " 22\n",
       " 23\n",
       " 24\n",
       " 25\n",
       " 26\n",
       " 27\n",
       " 28\n",
       " 29\n",
       " 30\n",
       " 31"
      ]
     },
     "execution_count": 14,
     "metadata": {},
     "output_type": "execute_result"
    }
   ],
   "source": [
    "procs()"
   ]
  },
  {
   "cell_type": "code",
   "execution_count": 15,
   "id": "bee33c51-fbb2-4840-8ce5-00a939ce9d6e",
   "metadata": {},
   "outputs": [
    {
     "data": {
      "text/plain": [
       "1000003622"
      ]
     },
     "execution_count": 15,
     "metadata": {},
     "output_type": "execute_result"
    }
   ],
   "source": [
    "nheads = @distributed (+) for i = 1:2000000000\n",
    "    Int(rand(Bool))\n",
    "end"
   ]
  },
  {
   "cell_type": "code",
   "execution_count": 10,
   "id": "f98bed95-f481-4c01-84dc-5f77c7ca3bfe",
   "metadata": {},
   "outputs": [
    {
     "data": {
      "text/plain": [
       "Task (done) @0x00007f248e854a20"
      ]
     },
     "execution_count": 10,
     "metadata": {},
     "output_type": "execute_result"
    }
   ],
   "source": [
    "rmprocs(workers())"
   ]
  },
  {
   "cell_type": "code",
   "execution_count": 11,
   "id": "3feb0df3-caf2-4e40-a0bf-b16a0cdb1dfd",
   "metadata": {},
   "outputs": [
    {
     "data": {
      "text/plain": [
       "1-element Vector{Int64}:\n",
       " 1"
      ]
     },
     "execution_count": 11,
     "metadata": {},
     "output_type": "execute_result"
    }
   ],
   "source": [
    "procs()"
   ]
  },
  {
   "cell_type": "markdown",
   "id": "ea177b7b-b9ab-4210-bf0a-9eb4cdb0ffc9",
   "metadata": {},
   "source": [
    "Using the terminal on the virtual machine,\n",
    "\n",
    "* `gcloud container clusters resize cluster-1 --async --num-nodes=0 --zone=us-central1-c` Asynchronously resize `cluster-1` in the zone `us-central1-c` to 0."
   ]
  }
 ],
 "metadata": {
  "kernelspec": {
   "display_name": "Julia 1.7.3",
   "language": "julia",
   "name": "julia-1.7"
  },
  "language_info": {
   "file_extension": ".jl",
   "mimetype": "application/julia",
   "name": "julia",
   "version": "1.7.3"
  }
 },
 "nbformat": 4,
 "nbformat_minor": 5
}
